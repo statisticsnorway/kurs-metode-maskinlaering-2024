{
 "cells": [
  {
   "cell_type": "markdown",
   "id": "0",
   "metadata": {},
   "source": [
    "# Regresjon av boligverdier med \"California housing\" datasett"
   ]
  },
  {
   "cell_type": "code",
   "execution_count": null,
   "id": "1",
   "metadata": {},
   "outputs": [],
   "source": []
  },
  {
   "cell_type": "markdown",
   "id": "2",
   "metadata": {
    "tags": []
   },
   "source": [
    "## Litt om data: se eks. 7.2.7 \"California housing data\" på \n",
    "https://scikit-learn.org/stable/datasets/real_world.html\n",
    "\n",
    "Bakgrunnsinfo om data fra den siden: \\\n",
    "<br>\n",
    "    \n",
    "$Data Set Characteristics:$\n",
    "\n",
    "Number of Instances:\n",
    "20640\n",
    "\n",
    "Number of Attributes:\n",
    "8 numeric, predictive attributes \\\n",
    "1 categorical predictive attribute \\\n",
    "and a numeric target variable\n",
    "\n",
    "Attribute Information: \n",
    "\n",
    "**longitude**  &emsp;    block group longitude \\\n",
    "**latitude**   &emsp; &emsp;   block group latitude  \\\n",
    "**housing_median_age**   &emsp;     median house age in block group \\\n",
    "**average_rooms**    &emsp;   average number of rooms per household \\\n",
    "**average_bedrooms**  &emsp;   average number of bedrooms per household \\\n",
    "**population**  &emsp;   block group population \\\n",
    "**average_occupancy**    &emsp;   average number of household members \\\n",
    "**median_income**    &emsp;&emsp;     median income in block group \\\n",
    "**ocean_proximity** &emsp;&emsp;     promixity to ocean [\"'NEAR BAY'\", \"'1H OCEAN'\", 'INLAND', \"'NEAR OCEAN'\", 'ISLAND']\n",
    "\n",
    "\n",
    "Target variable: \\\n",
    "**median_house_value** &emsp;&emsp;     median value of a house in dollars\n"
   ]
  },
  {
   "cell_type": "code",
   "execution_count": null,
   "id": "3",
   "metadata": {},
   "outputs": [],
   "source": []
  },
  {
   "cell_type": "markdown",
   "id": "4",
   "metadata": {
    "tags": []
   },
   "source": [
    "This dataset was obtained from the StatLib repository. https://www.dcc.fc.up.pt/~ltorgo/Regression/cal_housing.html\n",
    "\n",
    "The target variable is the median house value for California districts in dollars.\n",
    "\n",
    "This dataset was derived from the 1990 U.S. census, using one row per census block group. A block group is the smallest geographical unit for which the U.S. Census Bureau publishes sample data (a block group typically has a population of 600 to 3,000 people).\n",
    "\n",
    "A household is a group of people residing within a home. Since the average number of rooms and bedrooms in this dataset are provided per household, these columns may take surprisingly large values for block groups with few households and many empty houses, such as vacation resorts."
   ]
  },
  {
   "cell_type": "code",
   "execution_count": null,
   "id": "5",
   "metadata": {},
   "outputs": [],
   "source": []
  },
  {
   "cell_type": "markdown",
   "id": "6",
   "metadata": {
    "tags": []
   },
   "source": [
    "**NB:** SSBs Dapla-system tillater ikke direkte nedlasting av datasetter fra eksterne kilder som ikke er inkludert som en del av sklearn-installasjonen. Følgende eksempelkode fra scikit-learn.org vil ikke fungere:\n",
    "\n",
    "- from sklearn.datasets import fetch_openml \n",
    "- california_housing = fetch_openml(data_id='43939', parser=\"auto\")\n",
    "\n",
    "Dette datasettet var lastet ned fra openML.org utenfor Dapla, fikk noe parsing og redigering, og ble kopiert til Dapla."
   ]
  },
  {
   "cell_type": "markdown",
   "id": "7",
   "metadata": {
    "tags": []
   },
   "source": [
    "## Referanse til Python sklearn pakka:\n",
    "\n",
    "https://scikit-learn.org/stable/api/index.html \n",
    "\n",
    "også\n",
    "\n",
    "https://scikit-learn.org/stable/supervised_learning.html"
   ]
  },
  {
   "cell_type": "code",
   "execution_count": null,
   "id": "8",
   "metadata": {},
   "outputs": [],
   "source": []
  },
  {
   "cell_type": "markdown",
   "id": "9",
   "metadata": {
    "jupyter": {
     "outputs_hidden": true
    },
    "tags": []
   },
   "source": [
    "# Initialiseringer"
   ]
  },
  {
   "cell_type": "code",
   "execution_count": null,
   "id": "10",
   "metadata": {
    "tags": []
   },
   "outputs": [],
   "source": [
    "import pandas as pd\n",
    "import numpy as np\n",
    "import dapla as dp\n",
    "import time\n",
    "import math\n",
    "\n",
    "import statistics\n",
    "import sys"
   ]
  },
  {
   "cell_type": "code",
   "execution_count": null,
   "id": "11",
   "metadata": {
    "tags": []
   },
   "outputs": [],
   "source": [
    "from sklearn.model_selection import train_test_split\n",
    "from sklearn.linear_model import LinearRegression, Ridge\n",
    "from sklearn.ensemble import RandomForestRegressor\n",
    "from sklearn.neural_network import MLPRegressor\n",
    "from sklearn.metrics import mean_squared_error, mean_absolute_error, r2_score\n",
    "from sklearn.model_selection import GridSearchCV\n",
    "\n",
    "import pickle"
   ]
  },
  {
   "cell_type": "code",
   "execution_count": null,
   "id": "12",
   "metadata": {
    "tags": []
   },
   "outputs": [],
   "source": [
    "verbose=True"
   ]
  },
  {
   "cell_type": "code",
   "execution_count": null,
   "id": "13",
   "metadata": {
    "tags": []
   },
   "outputs": [],
   "source": [
    "data_sti='data/'\n",
    "modell_sti='modeller/'\n",
    "resultat_sti='resultater/'"
   ]
  },
  {
   "cell_type": "code",
   "execution_count": null,
   "id": "14",
   "metadata": {
    "tags": []
   },
   "outputs": [],
   "source": [
    "pd.set_option('display.precision', 2)"
   ]
  },
  {
   "cell_type": "code",
   "execution_count": null,
   "id": "15",
   "metadata": {
    "tags": []
   },
   "outputs": [],
   "source": [
    "import sklearn \n",
    "print(sklearn.__version__)"
   ]
  },
  {
   "cell_type": "markdown",
   "id": "16",
   "metadata": {
    "jupyter": {
     "outputs_hidden": true
    },
    "tags": []
   },
   "source": [
    "# Lese inn og inspisere data"
   ]
  },
  {
   "cell_type": "code",
   "execution_count": null,
   "id": "17",
   "metadata": {
    "tags": []
   },
   "outputs": [],
   "source": [
    "housing=pd.read_csv('CA_housing_1990.csv', sep=';')"
   ]
  },
  {
   "cell_type": "code",
   "execution_count": null,
   "id": "18",
   "metadata": {
    "tags": []
   },
   "outputs": [],
   "source": [
    "housing"
   ]
  },
  {
   "cell_type": "code",
   "execution_count": null,
   "id": "19",
   "metadata": {
    "tags": []
   },
   "outputs": [],
   "source": [
    "housing.dtypes"
   ]
  },
  {
   "cell_type": "code",
   "execution_count": null,
   "id": "20",
   "metadata": {
    "tags": []
   },
   "outputs": [],
   "source": [
    "# vi skal ikke håndtere kategoriske forklaringsvariabler i dagens modulen, \n",
    "#   så tar vi ut ocean_proximity\n",
    "\n",
    "housing=housing.drop('ocean_proximity', axis=1)"
   ]
  },
  {
   "cell_type": "code",
   "execution_count": null,
   "id": "21",
   "metadata": {
    "tags": []
   },
   "outputs": [],
   "source": [
    "# sjekke om vi har manglende verdier, NaN eller None\n",
    "\n",
    "housing.isna().sum()"
   ]
  },
  {
   "cell_type": "code",
   "execution_count": null,
   "id": "22",
   "metadata": {
    "tags": []
   },
   "outputs": [],
   "source": [
    "# vi skal ikke håndtere manglende verdier i dagens modulen,\n",
    "#   så tar vi ut de 207 punktene med manglende average_bedrooms\n",
    "\n",
    "housing = housing[~housing['average_bedrooms'].isna()]"
   ]
  },
  {
   "cell_type": "code",
   "execution_count": null,
   "id": "23",
   "metadata": {
    "tags": []
   },
   "outputs": [],
   "source": [
    "housing.isna().sum()"
   ]
  },
  {
   "cell_type": "code",
   "execution_count": null,
   "id": "24",
   "metadata": {
    "tags": []
   },
   "outputs": [],
   "source": [
    "housing"
   ]
  },
  {
   "cell_type": "markdown",
   "id": "25",
   "metadata": {
    "jupyter": {
     "outputs_hidden": true
    },
    "tags": []
   },
   "source": [
    "# Lage X, y "
   ]
  },
  {
   "cell_type": "code",
   "execution_count": null,
   "id": "26",
   "metadata": {
    "tags": []
   },
   "outputs": [],
   "source": [
    "X=housing.drop('median_house_value', axis=1)"
   ]
  },
  {
   "cell_type": "code",
   "execution_count": null,
   "id": "27",
   "metadata": {
    "tags": []
   },
   "outputs": [],
   "source": [
    "# legge X_ til kolonnenavn for X-variabler\n",
    "\n",
    "X.columns='X_'+X.columns\n",
    "X.columns"
   ]
  },
  {
   "cell_type": "code",
   "execution_count": null,
   "id": "28",
   "metadata": {
    "tags": []
   },
   "outputs": [],
   "source": [
    "X"
   ]
  },
  {
   "cell_type": "code",
   "execution_count": null,
   "id": "29",
   "metadata": {
    "tags": []
   },
   "outputs": [],
   "source": [
    "y= housing.loc[:,'median_house_value'].values\n",
    "y"
   ]
  },
  {
   "cell_type": "code",
   "execution_count": null,
   "id": "30",
   "metadata": {
    "tags": []
   },
   "outputs": [],
   "source": [
    "# litt utforskning av data"
   ]
  },
  {
   "cell_type": "code",
   "execution_count": null,
   "id": "31",
   "metadata": {
    "tags": []
   },
   "outputs": [],
   "source": [
    "X.shape"
   ]
  },
  {
   "cell_type": "code",
   "execution_count": null,
   "id": "32",
   "metadata": {
    "tags": []
   },
   "outputs": [],
   "source": [
    "y.shape"
   ]
  },
  {
   "cell_type": "code",
   "execution_count": null,
   "id": "33",
   "metadata": {
    "tags": []
   },
   "outputs": [],
   "source": [
    "# summary statistics\n",
    "X.describe()"
   ]
  },
  {
   "cell_type": "code",
   "execution_count": null,
   "id": "34",
   "metadata": {
    "tags": []
   },
   "outputs": [],
   "source": [
    "pd.DataFrame(y).describe()"
   ]
  },
  {
   "cell_type": "markdown",
   "id": "35",
   "metadata": {
    "jupyter": {
     "outputs_hidden": true
    },
    "tags": []
   },
   "source": [
    "# Dele i trenings- og testsetter"
   ]
  },
  {
   "cell_type": "code",
   "execution_count": null,
   "id": "36",
   "metadata": {
    "tags": []
   },
   "outputs": [],
   "source": [
    "X_train, X_test, y_train, y_test = train_test_split(X, y, test_size=0.2, random_state=11)"
   ]
  },
  {
   "cell_type": "code",
   "execution_count": null,
   "id": "37",
   "metadata": {
    "tags": []
   },
   "outputs": [],
   "source": [
    "X_train.shape"
   ]
  },
  {
   "cell_type": "code",
   "execution_count": null,
   "id": "38",
   "metadata": {
    "tags": []
   },
   "outputs": [],
   "source": [
    "X_test.shape"
   ]
  },
  {
   "cell_type": "code",
   "execution_count": null,
   "id": "39",
   "metadata": {
    "tags": []
   },
   "outputs": [],
   "source": [
    "y_train.shape"
   ]
  },
  {
   "cell_type": "code",
   "execution_count": null,
   "id": "40",
   "metadata": {
    "tags": []
   },
   "outputs": [],
   "source": [
    "y_test.shape"
   ]
  },
  {
   "cell_type": "markdown",
   "id": "41",
   "metadata": {
    "jupyter": {
     "outputs_hidden": true
    },
    "tags": []
   },
   "source": [
    "# Trene modellen"
   ]
  },
  {
   "cell_type": "code",
   "execution_count": null,
   "id": "42",
   "metadata": {},
   "outputs": [],
   "source": [
    "# begynner med enkelst mulig eksempel, linear regresjon\n",
    "\n",
    "model = LinearRegression()\n",
    "\n",
    "model.fit(X_train, y_train)\n"
   ]
  },
  {
   "cell_type": "markdown",
   "id": "43",
   "metadata": {},
   "source": [
    "### Litt inspisering"
   ]
  },
  {
   "cell_type": "markdown",
   "id": "44",
   "metadata": {},
   "source": [
    "vi kan inspisere modellen i forskjellige måter, f.eks. vi kan sjekke\n",
    "   koeffisientene av regresjonsmodellen\n"
   ]
  },
  {
   "cell_type": "code",
   "execution_count": null,
   "id": "45",
   "metadata": {},
   "outputs": [],
   "source": [
    "model.coef_"
   ]
  },
  {
   "cell_type": "code",
   "execution_count": null,
   "id": "46",
   "metadata": {},
   "outputs": [],
   "source": [
    "X.columns"
   ]
  },
  {
   "cell_type": "markdown",
   "id": "47",
   "metadata": {},
   "source": [
    " hva predikerer modellen for et punkt med gjennomsnittlige verdier for alle X variabler?"
   ]
  },
  {
   "cell_type": "code",
   "execution_count": null,
   "id": "48",
   "metadata": {
    "tags": []
   },
   "outputs": [],
   "source": [
    "means = X.describe().loc[['mean']]\n",
    "means"
   ]
  },
  {
   "cell_type": "code",
   "execution_count": null,
   "id": "49",
   "metadata": {
    "tags": []
   },
   "outputs": [],
   "source": [
    "model.predict(means)"
   ]
  },
  {
   "cell_type": "markdown",
   "id": "50",
   "metadata": {
    "jupyter": {
     "outputs_hidden": true
    },
    "tags": []
   },
   "source": [
    "# Test modellen"
   ]
  },
  {
   "cell_type": "code",
   "execution_count": null,
   "id": "51",
   "metadata": {
    "tags": []
   },
   "outputs": [],
   "source": [
    "# lage prediksjoner på testdata\n",
    "\n",
    "y_pred = model.predict(X_test)\n",
    "y_pred"
   ]
  },
  {
   "cell_type": "markdown",
   "id": "52",
   "metadata": {},
   "source": [
    "### Vurdere modellen"
   ]
  },
  {
   "cell_type": "code",
   "execution_count": null,
   "id": "53",
   "metadata": {
    "tags": []
   },
   "outputs": [],
   "source": [
    "# skriv ut root mean squared (RMS) feil:\n",
    "root_mse = math.sqrt(mean_squared_error(y_test, y_pred))\n",
    "print(f'Root Mean Squared Error: ${root_mse:.2f}')\n",
    "\n",
    "# skriv ut mean absolute error (MAE):\n",
    "mae = mean_absolute_error(y_test, y_pred)\n",
    "print(f'Mean Absolute Error: ${mae:.2f}')\n",
    "\n",
    "# R^2 gir andelen av varians i utgangsvariabel y som kan predikeres fra \n",
    "#    forklaringsvariablene X i en linear modell\n",
    "r2 = r2_score(y_test, y_pred)\n",
    "print(f'R^2: ${r2:.2f}')"
   ]
  },
  {
   "cell_type": "markdown",
   "id": "54",
   "metadata": {},
   "source": [
    "### Vurdere ytelsen i strata"
   ]
  },
  {
   "cell_type": "code",
   "execution_count": null,
   "id": "55",
   "metadata": {
    "tags": []
   },
   "outputs": [],
   "source": [
    "# sjekke MAE i strata hvor hus er nyere eller eldre\n",
    "nyere = X_test['X_housing_median_age']<=20\n",
    "\n",
    "mae_ny = mean_absolute_error(y_test[nyere], y_pred[nyere])\n",
    "print(f'Mean Absolute Error, housing_median_age<=20: ${mae_ny:.2f}')\n",
    "\n",
    "mae_gammel = mean_absolute_error(y_test[~nyere], y_pred[~nyere])\n",
    "print(f'Mean Absolute Error, housing_median_age>20: ${mae_gammel:.2f}')\n"
   ]
  },
  {
   "cell_type": "markdown",
   "id": "56",
   "metadata": {
    "jupyter": {
     "outputs_hidden": true
    },
    "tags": []
   },
   "source": [
    "# Prøv andre algoritmer"
   ]
  },
  {
   "cell_type": "code",
   "execution_count": null,
   "id": "57",
   "metadata": {
    "tags": []
   },
   "outputs": [],
   "source": [
    "# nå prøver vi en ekte ML-s metode, en tilfeldig skog (random forest) \n",
    "\n",
    "model = RandomForestRegressor()\n",
    "\n",
    "# tilpasning, sjekk treningstid\n",
    "start_time = time.time()\n",
    "model.fit(X_train, y_train)\n",
    "end_time = time.time()\n",
    "print(f\"Training time: {end_time-start_time:.1f} seconds\")\n",
    "\n",
    "# sjekke MAE på testsettet\n",
    "y_pred = model.predict(X_test)\n",
    "mae = mean_absolute_error(y_test, y_pred)\n",
    "print(f'Mean Absolute Error: ${mae:.2f}')"
   ]
  },
  {
   "cell_type": "code",
   "execution_count": null,
   "id": "58",
   "metadata": {
    "tags": []
   },
   "outputs": [],
   "source": [
    "# lage en kopi av modellen og prediksjoner for lagring\n",
    "model_RF=model \n",
    "y_pred_RF= y_pred"
   ]
  },
  {
   "cell_type": "markdown",
   "id": "59",
   "metadata": {},
   "source": [
    "### Prøv med dine egne modelldefinisjoner her!"
   ]
  },
  {
   "cell_type": "code",
   "execution_count": null,
   "id": "60",
   "metadata": {},
   "outputs": [],
   "source": []
  },
  {
   "cell_type": "code",
   "execution_count": null,
   "id": "61",
   "metadata": {},
   "outputs": [],
   "source": []
  },
  {
   "cell_type": "markdown",
   "id": "62",
   "metadata": {
    "jupyter": {
     "outputs_hidden": true
    },
    "tags": []
   },
   "source": [
    "# Hyperparameter justering (tuning)"
   ]
  },
  {
   "cell_type": "code",
   "execution_count": null,
   "id": "63",
   "metadata": {
    "tags": []
   },
   "outputs": [],
   "source": [
    "# lag en funksjon for å sjekke MAE ytelsen av en modell\n",
    "\n",
    "def sjekke_MAE(mymodel):\n",
    "    mymodel.fit(X_train, y_train)\n",
    "    y_pred = mymodel.predict(X_test)\n",
    "    MAE=mean_absolute_error(y_test, y_pred)\n",
    "    print(\"Testing model \", mymodel, \"\\nMAE=$\", round(MAE,2))\n",
    "    return(round(MAE,2))"
   ]
  },
  {
   "cell_type": "markdown",
   "id": "64",
   "metadata": {},
   "source": [
    "<code>RandomForestRegressor()</code> bruker 100 trær som standard. Hva om vi endrer det?"
   ]
  },
  {
   "cell_type": "code",
   "execution_count": null,
   "id": "65",
   "metadata": {
    "tags": []
   },
   "outputs": [],
   "source": [
    "RF_100trees=RandomForestRegressor(n_estimators = 100)\n",
    "sjekke_MAE(RF_100trees)"
   ]
  },
  {
   "cell_type": "code",
   "execution_count": null,
   "id": "66",
   "metadata": {
    "tags": []
   },
   "outputs": [],
   "source": [
    "RF_50trees=RandomForestRegressor(n_estimators = 50)\n",
    "sjekke_MAE(RF_50trees)"
   ]
  },
  {
   "cell_type": "markdown",
   "id": "67",
   "metadata": {},
   "source": [
    "#### Bruk kryss-validering! \n",
    "<code>GridSearchCV(...)</code> funksjonen nedenfor gjør alt arbeidet for deg,\n",
    "og tester med 5-gangers kryssvalidering på hver av de 3 spesifiserte innstillingene av\n",
    "hyperparametre. "
   ]
  },
  {
   "cell_type": "markdown",
   "id": "68",
   "metadata": {},
   "source": [
    "Først sjekk spesifikasjonen av <code>RandomForestRegressor(...)</code> funksjonen på:\\\n",
    "https://scikit-learn.org/stable/modules/generated/sklearn.ensemble.RandomForestRegressor.html \\\n",
    "Vi ser at RandomForest(...) har er en *n_estimators* hyperparameter som kontroller antall trær. Vi spesifiserer nedenfor i <code>GridSearchCV(...)</code> funksjonen at RandomForestRegressor(...) skal kjøres med *n_estimators* hyperparameteren satt til verdiene 50, 100, og 200, en etter en. Vi spesifiserer også at mean absolute error skal brukes for å vurdere ytelse."
   ]
  },
  {
   "cell_type": "markdown",
   "id": "69",
   "metadata": {},
   "source": [
    "**NB**: Kryss-validering kan ta lenge! Koden nedenfor trener 15 modeller."
   ]
  },
  {
   "cell_type": "code",
   "execution_count": null,
   "id": "70",
   "metadata": {
    "tags": []
   },
   "outputs": [],
   "source": [
    "CV_RF = GridSearchCV(RandomForestRegressor(), \n",
    "                     param_grid={'n_estimators': [50,100,200]}, \n",
    "                     scoring='neg_mean_absolute_error')\n",
    "\n",
    "# fit-funksjonen her splitter opp treningssettet i trenings- og valideringssetter, \n",
    "#    5 separate ganger, og vurderer ytelsen over de 5 tilfellene \n",
    "CV_RF.fit(X_train, y_train)"
   ]
  },
  {
   "cell_type": "code",
   "execution_count": null,
   "id": "71",
   "metadata": {
    "tags": []
   },
   "outputs": [],
   "source": [
    "CV_RF.cv_results_"
   ]
  },
  {
   "cell_type": "markdown",
   "id": "72",
   "metadata": {},
   "source": [
    "Sjekk hvilken innstilling av parametere hadde den beste ytelsen. \n",
    "Den innstillingen er merkert og brukt når vi kaller predict-funksjonen."
   ]
  },
  {
   "cell_type": "code",
   "execution_count": null,
   "id": "73",
   "metadata": {
    "tags": []
   },
   "outputs": [],
   "source": [
    "CV_RF.best_estimator_"
   ]
  },
  {
   "cell_type": "code",
   "execution_count": null,
   "id": "74",
   "metadata": {
    "tags": []
   },
   "outputs": [],
   "source": [
    "# sjekk ytelse \n",
    "y_pred=CV_RF.predict(X_test)\n",
    "mae = mean_absolute_error(y_test, y_pred)\n",
    "print(f'Mean Absolute Error: ${mae:.2f}')"
   ]
  },
  {
   "cell_type": "markdown",
   "id": "75",
   "metadata": {
    "tags": []
   },
   "source": [
    "# Lage en prediksjonsmatrise\n",
    "... med X, y verdier, prediksjoner,og mål på feil på testsettet"
   ]
  },
  {
   "cell_type": "code",
   "execution_count": null,
   "id": "76",
   "metadata": {
    "tags": []
   },
   "outputs": [],
   "source": [
    "predic_matrix= X_test.copy()\n",
    "predic_matrix.insert(len(X_test.columns),'median_dollar_value_true', y_test)\n",
    "\n",
    "predic_matrix['median_dollar_value_pred_RandFor']=y_pred_RF\n",
    "predic_matrix['RandFor_error']= y_pred_RF - y_test\n",
    "\n",
    "predic_matrix"
   ]
  },
  {
   "cell_type": "markdown",
   "id": "77",
   "metadata": {
    "tags": []
   },
   "source": [
    "# Lagre modellene og prediksjonene"
   ]
  },
  {
   "cell_type": "markdown",
   "id": "78",
   "metadata": {},
   "source": [
    "### Lagre modellen"
   ]
  },
  {
   "cell_type": "markdown",
   "id": "79",
   "metadata": {
    "tags": []
   },
   "source": [
    "lagre modellen på disc, så vi kan bruke den for predikering senere"
   ]
  },
  {
   "cell_type": "code",
   "execution_count": null,
   "id": "80",
   "metadata": {
    "tags": []
   },
   "outputs": [],
   "source": [
    "# lagre modellen på disk\n",
    "filename = 'California_housing_values_RandForest_model.sav'\n",
    "pickle.dump(model_RF, open(filename, 'wb'))"
   ]
  },
  {
   "cell_type": "markdown",
   "id": "81",
   "metadata": {},
   "source": [
    "en gang senere... \\\n",
    "vi kan bare laste inn modellen og predikere med en gang, uten modellbygging"
   ]
  },
  {
   "cell_type": "code",
   "execution_count": null,
   "id": "82",
   "metadata": {
    "tags": []
   },
   "outputs": [],
   "source": [
    "loaded_model = pickle.load(open(filename, 'rb'))"
   ]
  },
  {
   "cell_type": "markdown",
   "id": "83",
   "metadata": {
    "tags": []
   },
   "source": [
    "teste predikering på den lastede modellen"
   ]
  },
  {
   "cell_type": "code",
   "execution_count": null,
   "id": "84",
   "metadata": {
    "tags": []
   },
   "outputs": [],
   "source": [
    "newX = X_test.iloc[[1]]\n",
    "newX"
   ]
  },
  {
   "cell_type": "code",
   "execution_count": null,
   "id": "85",
   "metadata": {
    "tags": []
   },
   "outputs": [],
   "source": [
    "loaded_model.predict(newX)"
   ]
  },
  {
   "cell_type": "code",
   "execution_count": null,
   "id": "86",
   "metadata": {
    "tags": []
   },
   "outputs": [],
   "source": [
    "model_RF.predict(newX)"
   ]
  },
  {
   "cell_type": "markdown",
   "id": "87",
   "metadata": {},
   "source": [
    "### Lagre prediksjonsmatrisen"
   ]
  },
  {
   "cell_type": "code",
   "execution_count": null,
   "id": "88",
   "metadata": {
    "tags": []
   },
   "outputs": [],
   "source": [
    "predic_matrix.to_csv('California_housing_values_RandFor_predictions.csv', float_format='%.2f', sep=';', index=False)"
   ]
  },
  {
   "cell_type": "code",
   "execution_count": null,
   "id": "89",
   "metadata": {},
   "outputs": [],
   "source": []
  },
  {
   "cell_type": "code",
   "execution_count": null,
   "id": "90",
   "metadata": {},
   "outputs": [],
   "source": []
  },
  {
   "cell_type": "code",
   "execution_count": null,
   "id": "91",
   "metadata": {},
   "outputs": [],
   "source": []
  }
 ],
 "metadata": {
  "language_info": {
   "codemirror_mode": {
    "name": "ipython"
   },
   "file_extension": ".py",
   "mimetype": "text/x-python",
   "name": "python",
   "nbconvert_exporter": "python"
  }
 },
 "nbformat": 4,
 "nbformat_minor": 5
}
