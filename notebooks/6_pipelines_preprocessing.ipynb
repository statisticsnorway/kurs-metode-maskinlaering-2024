{
 "cells": [
  {
   "cell_type": "markdown",
   "id": "0",
   "metadata": {
    "tags": []
   },
   "source": [
    "# Preprosessering og Pipelines"
   ]
  },
  {
   "cell_type": "code",
   "execution_count": null,
   "id": "1",
   "metadata": {},
   "outputs": [],
   "source": []
  },
  {
   "cell_type": "code",
   "execution_count": null,
   "id": "2",
   "metadata": {},
   "outputs": [],
   "source": []
  },
  {
   "cell_type": "markdown",
   "id": "3",
   "metadata": {},
   "source": [
    "## Litt om pipelines i sklearn"
   ]
  },
  {
   "cell_type": "markdown",
   "id": "4",
   "metadata": {},
   "source": [
    "https://scikit-learn.org/stable/modules/generated/sklearn.pipeline.Pipeline.html"
   ]
  },
  {
   "cell_type": "code",
   "execution_count": null,
   "id": "5",
   "metadata": {},
   "outputs": [],
   "source": []
  },
  {
   "cell_type": "markdown",
   "id": "6",
   "metadata": {},
   "source": [
    "Fra medium.com: \"En scikit-learn-pipeline er et kraftig verktøy som lenker sammen flere trinn med dataforbehandling og modellering til en enkelt, strømlinjeformet enhet.\"\n",
    "\n",
    "Pipelines tilrettelegger veldig elegant koding av ML arbeidsflyter, og sikrer at alle tilpasning skjer på treningsdata og at det er ingen \"leaking\" hvor testdata blir brukt til noen del av tilpasningen ved et uhell.\n",
    "\n",
    "Et par eksempel:\n",
    "\n",
    "<code>model = Pipeline([\n",
    "              ('imputer', SimpleImputer(strategy ='mean')),   # Step 1: Impute missing values\n",
    "              ('classifier', DecisionTreeClassifier())   # Step 2: decision tree classifier\n",
    "])</code> \\\n",
    "\\\n",
    "<code>model_LR_second_order = Pipeline([\n",
    "                     ('scale', StandardScaler()),                          \n",
    "                     ('second_order_interactions', PolynomialFeatures(2)),  \n",
    "                    ('linear_regression', LinearRegression()) \n",
    "])</code>\n"
   ]
  },
  {
   "cell_type": "markdown",
   "id": "7",
   "metadata": {
    "tags": []
   },
   "source": [
    "## Nyttige steger i en ML arbeidsflyt\n",
    "\n",
    "- GENERERING AV FEATURES. steger under viser mulige transformasjoner som kan gjøres, bare for å tenke om flere betraktninger\n",
    "\n",
    "$$\\bigl[ \\text{egen definert preprocessing?}\\bigr] \\longrightarrow \\bigl[ \\text{erstatte manglende verdier?}\\bigr] \\longrightarrow \\bigl[ \\text{indikator 'dummy' variabler?}\\bigr] \\longrightarrow $$ \\\n",
    "$$\\longrightarrow \\bigl[\\text{lage nye variabler f.eks. tekst n-grams, eller X_i*X_j?}\\bigr] \\longrightarrow \\bigl[\\text{skalering?}\\bigr]  \\ $$\n",
    "\n",
    "- etterpå: FITTING AV MODELL. \n",
    "$$\\longrightarrow \\bigl[\\text{tilpasning av modell parametere}\\bigr]  $$\n",
    "\n",
    "<br>\n",
    "\n",
    "- estatte/imputere manglende verdier: `SimpleImputer()` \n",
    "- lage indikator variabler: `OneHotEncoder()` \n",
    "- lage nye variabler: text features `CountVectorizer()`, `TfidfVectorizer()` \\\n",
    "høyere grad kombinasjoner av features i.e. X_i*X_j: `PolynomialFeatures()` \n",
    "- skalering: `StandardScaler()` \n"
   ]
  },
  {
   "cell_type": "code",
   "execution_count": null,
   "id": "8",
   "metadata": {},
   "outputs": [],
   "source": []
  },
  {
   "cell_type": "code",
   "execution_count": null,
   "id": "9",
   "metadata": {},
   "outputs": [],
   "source": []
  },
  {
   "cell_type": "markdown",
   "id": "10",
   "metadata": {
    "tags": []
   },
   "source": [
    "## Referanse til Python sklearn pakka:\n",
    "\n",
    "https://scikit-learn.org/stable/api/index.html \n",
    "\n",
    "også\n",
    "\n",
    "https://scikit-learn.org/stable/supervised_learning.html"
   ]
  },
  {
   "cell_type": "code",
   "execution_count": null,
   "id": "11",
   "metadata": {},
   "outputs": [],
   "source": []
  },
  {
   "cell_type": "markdown",
   "id": "12",
   "metadata": {
    "jupyter": {
     "outputs_hidden": true
    },
    "tags": []
   },
   "source": [
    "# Initialiseringer"
   ]
  },
  {
   "cell_type": "code",
   "execution_count": null,
   "id": "13",
   "metadata": {
    "tags": []
   },
   "outputs": [],
   "source": [
    "import pandas as pd\n",
    "import numpy as np\n",
    "import dapla as dp\n",
    "import time\n",
    "import math\n",
    "\n",
    "import statistics\n",
    "import sys"
   ]
  },
  {
   "cell_type": "code",
   "execution_count": null,
   "id": "14",
   "metadata": {
    "tags": []
   },
   "outputs": [],
   "source": [
    "from sklearn.model_selection import train_test_split\n",
    "from sklearn.linear_model import LinearRegression, Ridge, RidgeCV\n",
    "from sklearn.ensemble import RandomForestRegressor, GradientBoostingRegressor\n",
    "from sklearn.tree import DecisionTreeRegressor\n",
    "from sklearn.neural_network import MLPRegressor\n",
    "from sklearn.metrics import mean_squared_error, mean_absolute_error, r2_score\n",
    "from sklearn.model_selection import GridSearchCV\n",
    "from sklearn.impute import SimpleImputer\n",
    "from sklearn.preprocessing import OneHotEncoder\n",
    "from sklearn.pipeline import Pipeline\n",
    "from sklearn.preprocessing import StandardScaler\n",
    "from sklearn.preprocessing import PolynomialFeatures\n",
    "from sklearn.ensemble import RandomForestRegressor\n",
    "\n",
    "import pickle"
   ]
  },
  {
   "cell_type": "code",
   "execution_count": null,
   "id": "15",
   "metadata": {
    "tags": []
   },
   "outputs": [],
   "source": [
    "verbose=True"
   ]
  },
  {
   "cell_type": "code",
   "execution_count": null,
   "id": "16",
   "metadata": {
    "tags": []
   },
   "outputs": [],
   "source": [
    "data_sti='data/'\n",
    "modell_sti='modeller/'\n",
    "resultat_sti='resultater/'"
   ]
  },
  {
   "cell_type": "code",
   "execution_count": null,
   "id": "17",
   "metadata": {
    "tags": []
   },
   "outputs": [],
   "source": [
    "pd.set_option('display.precision', 2)"
   ]
  },
  {
   "cell_type": "code",
   "execution_count": null,
   "id": "18",
   "metadata": {
    "tags": []
   },
   "outputs": [],
   "source": [
    "import sklearn \n",
    "print(sklearn.__version__)"
   ]
  },
  {
   "cell_type": "code",
   "execution_count": null,
   "id": "19",
   "metadata": {},
   "outputs": [],
   "source": []
  },
  {
   "cell_type": "markdown",
   "id": "20",
   "metadata": {},
   "source": [
    "# Prøve å tilpasse en modell til opprinnelige data"
   ]
  },
  {
   "cell_type": "markdown",
   "id": "21",
   "metadata": {},
   "source": [
    "Så lenge måtte vi kaste bort alle kategoriske variabler, og alle punktene som hadde en manglende verdi. Hvordan kan vi håndtere disse?"
   ]
  },
  {
   "cell_type": "code",
   "execution_count": null,
   "id": "22",
   "metadata": {
    "tags": []
   },
   "outputs": [],
   "source": [
    "housing=pd.read_csv('CA_housing_1990.csv', sep=';')"
   ]
  },
  {
   "cell_type": "code",
   "execution_count": null,
   "id": "23",
   "metadata": {
    "tags": []
   },
   "outputs": [],
   "source": [
    "housing.dtypes"
   ]
  },
  {
   "cell_type": "code",
   "execution_count": null,
   "id": "24",
   "metadata": {
    "tags": []
   },
   "outputs": [],
   "source": [
    "housing.isna().sum()"
   ]
  },
  {
   "cell_type": "code",
   "execution_count": null,
   "id": "25",
   "metadata": {
    "tags": []
   },
   "outputs": [],
   "source": [
    "X=housing.drop('median_house_value', axis=1)"
   ]
  },
  {
   "cell_type": "code",
   "execution_count": null,
   "id": "26",
   "metadata": {
    "tags": []
   },
   "outputs": [],
   "source": [
    "# legge X_ til kolonnenavn for X-variabler\n",
    "\n",
    "X.columns='X_'+X.columns\n",
    "X.columns"
   ]
  },
  {
   "cell_type": "code",
   "execution_count": null,
   "id": "27",
   "metadata": {
    "tags": []
   },
   "outputs": [],
   "source": [
    "y= housing.loc[:,'median_house_value'].values\n",
    "y"
   ]
  },
  {
   "cell_type": "code",
   "execution_count": null,
   "id": "28",
   "metadata": {
    "tags": []
   },
   "outputs": [],
   "source": [
    "X_train, X_test, y_train, y_test = train_test_split(X, y, test_size=0.2, random_state=11)"
   ]
  },
  {
   "cell_type": "code",
   "execution_count": null,
   "id": "29",
   "metadata": {
    "tags": []
   },
   "outputs": [],
   "source": [
    "model = RandomForestRegressor()\n",
    "#model.fit(X_train, y_train)"
   ]
  },
  {
   "cell_type": "markdown",
   "id": "30",
   "metadata": {},
   "source": [
    "# Håndtere kategoriske variabler\n",
    "### Lage indikator variabler ('dummies')"
   ]
  },
  {
   "cell_type": "code",
   "execution_count": null,
   "id": "31",
   "metadata": {
    "tags": []
   },
   "outputs": [],
   "source": [
    "enc = OneHotEncoder(sparse_output=False, drop='first')\n",
    "ocean_dummies_train = enc.fit_transform(X_train[['X_ocean_proximity']])\n",
    "dummies_tr=pd.DataFrame(ocean_dummies_train)\n",
    "dummies_tr.columns = ['1','2','3','4']\n",
    "dummies_tr.columns='X_ocean_prox_'+dummies_tr.columns"
   ]
  },
  {
   "cell_type": "code",
   "execution_count": null,
   "id": "32",
   "metadata": {
    "tags": []
   },
   "outputs": [],
   "source": [
    "dummies_tr"
   ]
  },
  {
   "cell_type": "code",
   "execution_count": null,
   "id": "33",
   "metadata": {
    "tags": []
   },
   "outputs": [],
   "source": [
    "enc.categories_"
   ]
  },
  {
   "cell_type": "code",
   "execution_count": null,
   "id": "34",
   "metadata": {},
   "outputs": [],
   "source": [
    "X_train=X_train.reset_index().drop(['index'], axis=1)\n",
    "X_train=pd.concat([X_train, dummies_tr], axis=1).drop(['X_ocean_proximity'], axis=1)\n",
    "X_train"
   ]
  },
  {
   "cell_type": "code",
   "execution_count": null,
   "id": "35",
   "metadata": {},
   "outputs": [],
   "source": [
    "ocean_dummies_test = enc.transform(X_test[['X_ocean_proximity']])\n",
    "dummies_test=pd.DataFrame(ocean_dummies_test)\n",
    "dummies_test.columns = ['1','2','3','4']\n",
    "dummies_test.columns='X_ocean_prox_'+dummies_test.columns\n",
    "\n",
    "X_test=X_test.reset_index().drop(['index'], axis=1)\n",
    "X_test=pd.concat([X_test, dummies_test], axis=1).drop(['X_ocean_proximity'], axis=1)\n",
    "X_test"
   ]
  },
  {
   "cell_type": "markdown",
   "id": "36",
   "metadata": {},
   "source": [
    "# Håndtere manglende verdier"
   ]
  },
  {
   "cell_type": "code",
   "execution_count": null,
   "id": "37",
   "metadata": {
    "tags": []
   },
   "outputs": [],
   "source": [
    "imp_mean = SimpleImputer(strategy='mean')\n",
    "X_train_imp=imp_mean.fit_transform(X_train)\n",
    "X_train_imp"
   ]
  },
  {
   "cell_type": "code",
   "execution_count": null,
   "id": "38",
   "metadata": {
    "tags": []
   },
   "outputs": [],
   "source": [
    "sum(np.isnan(X_train_imp))"
   ]
  },
  {
   "cell_type": "code",
   "execution_count": null,
   "id": "39",
   "metadata": {
    "tags": []
   },
   "outputs": [],
   "source": [
    "imp_mean.transform(X_test)"
   ]
  },
  {
   "cell_type": "code",
   "execution_count": null,
   "id": "40",
   "metadata": {},
   "outputs": [],
   "source": []
  },
  {
   "cell_type": "markdown",
   "id": "41",
   "metadata": {
    "tags": []
   },
   "source": [
    "# Trene en modell med alle våre data i CA_housing_1990.csv"
   ]
  },
  {
   "cell_type": "markdown",
   "id": "42",
   "metadata": {
    "tags": []
   },
   "source": [
    "### Håndtere manglende verdier"
   ]
  },
  {
   "cell_type": "code",
   "execution_count": null,
   "id": "43",
   "metadata": {
    "tags": []
   },
   "outputs": [],
   "source": [
    "mymodel = Pipeline([   ('imputer', SimpleImputer(strategy ='mean')),\n",
    "                       ('RandForest', RandomForestRegressor()) ])"
   ]
  },
  {
   "cell_type": "code",
   "execution_count": null,
   "id": "44",
   "metadata": {
    "tags": []
   },
   "outputs": [],
   "source": [
    "mymodel.fit(X_train, y_train)\n",
    "\n",
    "# sjekke MAE på testsettet\n",
    "y_pred = mymodel.predict(X_test)\n",
    "mae = mean_absolute_error(y_test, y_pred)\n",
    "print(f'Random forest, Mean Absolute Error: ${mae:.2f}')"
   ]
  },
  {
   "cell_type": "code",
   "execution_count": null,
   "id": "45",
   "metadata": {},
   "outputs": [],
   "source": []
  },
  {
   "cell_type": "markdown",
   "id": "46",
   "metadata": {},
   "source": [
    "# mer preprosessering: skalering og kvadratiske features"
   ]
  },
  {
   "cell_type": "markdown",
   "id": "47",
   "metadata": {},
   "source": [
    "#### vi sammenligner enkel lineær regresjon og lineær regresjon med kvadratiske features og skalering"
   ]
  },
  {
   "cell_type": "code",
   "execution_count": null,
   "id": "48",
   "metadata": {},
   "outputs": [],
   "source": []
  },
  {
   "cell_type": "markdown",
   "id": "49",
   "metadata": {},
   "source": [
    "#### Enkel lineær regresjon"
   ]
  },
  {
   "cell_type": "code",
   "execution_count": null,
   "id": "50",
   "metadata": {
    "tags": []
   },
   "outputs": [],
   "source": [
    "mymodel = Pipeline([   ('imputer', SimpleImputer(strategy ='mean')),\n",
    "                       ('LinReg', LinearRegression()) ])\n",
    "\n",
    "mymodel.fit(X_train, y_train)\n",
    "y_pred = mymodel.predict(X_test)\n",
    "mae = mean_absolute_error(y_test, y_pred)\n",
    "print(f'Simple linear regression, Mean Absolute Error: ${mae:.2f}')"
   ]
  },
  {
   "cell_type": "code",
   "execution_count": null,
   "id": "51",
   "metadata": {},
   "outputs": [],
   "source": []
  },
  {
   "cell_type": "markdown",
   "id": "52",
   "metadata": {},
   "source": [
    "#### Kvadratiske features"
   ]
  },
  {
   "cell_type": "code",
   "execution_count": null,
   "id": "53",
   "metadata": {
    "tags": []
   },
   "outputs": [],
   "source": [
    "mymodel = Pipeline([   ('imputer', SimpleImputer(strategy ='mean')),\n",
    "                       ('second_order_interactions', PolynomialFeatures(2)),\n",
    "                       ('LinReg', LinearRegression()) ])\n",
    "\n",
    "mymodel.fit(X_train, y_train)\n",
    "y_pred = mymodel.predict(X_test)\n",
    "mae = mean_absolute_error(y_test, y_pred)\n",
    "print(f'Quadratic features + linear regression, Mean Absolute Error: ${mae:.2f}')"
   ]
  },
  {
   "cell_type": "code",
   "execution_count": null,
   "id": "54",
   "metadata": {},
   "outputs": [],
   "source": []
  },
  {
   "cell_type": "markdown",
   "id": "55",
   "metadata": {},
   "source": [
    "#### Kvadratiske features + skalering"
   ]
  },
  {
   "cell_type": "code",
   "execution_count": null,
   "id": "56",
   "metadata": {
    "tags": []
   },
   "outputs": [],
   "source": [
    "mymodel = Pipeline([   ('imputer', SimpleImputer(strategy ='mean')),\n",
    "                       ('second_order_interactions', PolynomialFeatures(2)),\n",
    "                       ('scale', StandardScaler()),            \n",
    "                       ('LinReg', LinearRegression()) ])\n",
    "\n",
    "mymodel.fit(X_train, y_train)\n",
    "y_pred = mymodel.predict(X_test)\n",
    "mae = mean_absolute_error(y_test, y_pred)\n",
    "print(f'Quadratic features + scaling + linear regression, Mean Absolute Error: ${mae:.2f}')"
   ]
  },
  {
   "cell_type": "code",
   "execution_count": null,
   "id": "57",
   "metadata": {},
   "outputs": [],
   "source": []
  },
  {
   "cell_type": "code",
   "execution_count": null,
   "id": "58",
   "metadata": {},
   "outputs": [],
   "source": []
  },
  {
   "cell_type": "code",
   "execution_count": null,
   "id": "59",
   "metadata": {},
   "outputs": [],
   "source": []
  }
 ],
 "metadata": {
  "language_info": {
   "codemirror_mode": {
    "name": "ipython"
   },
   "file_extension": ".py",
   "mimetype": "text/x-python",
   "name": "python",
   "nbconvert_exporter": "python"
  }
 },
 "nbformat": 4,
 "nbformat_minor": 5
}
