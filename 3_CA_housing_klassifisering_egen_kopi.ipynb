{
 "cells": [
  {
   "cell_type": "markdown",
   "id": "0",
   "metadata": {},
   "source": [
    "# Klassifisering av boligverdier med \"California housing\" datasett"
   ]
  },
  {
   "cell_type": "code",
   "execution_count": null,
   "id": "1",
   "metadata": {},
   "outputs": [],
   "source": []
  },
  {
   "cell_type": "markdown",
   "id": "2",
   "metadata": {
    "tags": []
   },
   "source": [
    "## Litt om data: se eks. 7.2.7 \"California housing data\" på \n",
    "https://scikit-learn.org/stable/datasets/real_world.html\n",
    "\n",
    "Bakgrunnsinfo om data fra den siden: \\\n",
    "<br>\n",
    "    \n",
    "$Data Set Characteristics:$\n",
    "\n",
    "Number of Instances:\n",
    "20640\n",
    "\n",
    "Number of Attributes:\n",
    "8 numeric, predictive attributes \\\n",
    "1 categorical predictive attribute \\\n",
    "and a categorical target variable (generated below)\n",
    "\n",
    "Attribute Information: \n",
    "\n",
    "**longitude**  &emsp;    block group longitude \\\n",
    "**latitude**   &emsp; &emsp;   block group latitude  \\\n",
    "**housing_median_age**   &emsp;     median house age in block group \\\n",
    "**average_rooms**    &emsp;   average number of rooms per household \\\n",
    "**average_bedrooms**  &emsp;   average number of bedrooms per household \\\n",
    "**population**  &emsp;   block group population \\\n",
    "**average_occupancy**    &emsp;   average number of household members \\\n",
    "**median_income**    &emsp;&emsp;     median income in block group \\\n",
    "**ocean_proximity** &emsp;&emsp;     promixity to ocean [\"'NEAR BAY'\", \"'1H OCEAN'\", 'INLAND', \"'NEAR OCEAN'\", 'ISLAND']\n",
    "\n",
    "\n",
    "Target variable: \\\n",
    "**house_value_categ** &emsp;&emsp;     categorical variable for the median value of a house in dollars - \n"
   ]
  },
  {
   "cell_type": "code",
   "execution_count": null,
   "id": "3",
   "metadata": {},
   "outputs": [],
   "source": []
  },
  {
   "cell_type": "markdown",
   "id": "4",
   "metadata": {
    "tags": []
   },
   "source": [
    "This dataset was obtained from the StatLib repository. https://www.dcc.fc.up.pt/~ltorgo/Regression/cal_housing.html\n",
    "\n",
    "The target variable is a categorical value for the median house value for California districts in dollars. It takes values .\n",
    "\n",
    "This dataset was derived from the 1990 U.S. census, using one row per census block group. A block group is the smallest geographical unit for which the U.S. Census Bureau publishes sample data (a block group typically has a population of 600 to 3,000 people).\n",
    "\n",
    "A household is a group of people residing within a home. Since the average number of rooms and bedrooms in this dataset are provided per household, these columns may take surprisingly large values for block groups with few households and many empty houses, such as vacation resorts."
   ]
  },
  {
   "cell_type": "code",
   "execution_count": null,
   "id": "5",
   "metadata": {},
   "outputs": [],
   "source": []
  },
  {
   "cell_type": "markdown",
   "id": "6",
   "metadata": {
    "tags": []
   },
   "source": [
    "**NB:** SSBs Dapla-system tillater ikke direkte nedlasting av datasetter fra eksterne kilder som ikke er inkludert som en del av sklearn-installasjonen. Følgende eksempelkode fra scikit-learn.org vil ikke fungere:\n",
    "\n",
    "- from sklearn.datasets import fetch_openml \n",
    "- california_housing = fetch_openml(data_id='43939', parser=\"auto\")\n",
    "\n",
    "Dette datasettet var lastet ned fra openML.org utenfor Dapla, fikk noe parsing og redigering, og ble kopiert til Dapla."
   ]
  },
  {
   "cell_type": "markdown",
   "id": "7",
   "metadata": {
    "tags": []
   },
   "source": [
    "## Referanse til Python sklearn pakka:\n",
    "\n",
    "https://scikit-learn.org/stable/api/index.html \n",
    "\n",
    "også\n",
    "\n",
    "https://scikit-learn.org/stable/supervised_learning.html"
   ]
  },
  {
   "cell_type": "code",
   "execution_count": null,
   "id": "8",
   "metadata": {},
   "outputs": [],
   "source": []
  },
  {
   "cell_type": "markdown",
   "id": "9",
   "metadata": {
    "jupyter": {
     "outputs_hidden": true
    },
    "tags": []
   },
   "source": [
    "# Initialiseringer"
   ]
  },
  {
   "cell_type": "code",
   "execution_count": null,
   "id": "10",
   "metadata": {
    "tags": []
   },
   "outputs": [],
   "source": [
    "import pandas as pd\n",
    "import numpy as np\n",
    "import dapla as dp\n",
    "import time\n",
    "import math\n",
    "\n",
    "import statistics\n",
    "import sys"
   ]
  },
  {
   "cell_type": "code",
   "execution_count": null,
   "id": "11",
   "metadata": {
    "tags": []
   },
   "outputs": [],
   "source": [
    "from sklearn.model_selection import train_test_split\n",
    "from sklearn.linear_model import LogisticRegression\n",
    "from sklearn.ensemble import RandomForestClassifier\n",
    "from sklearn.neighbors import KNeighborsClassifier\n",
    "from sklearn.svm import LinearSVC, SVC\n",
    "from sklearn.metrics import accuracy_score, f1_score, classification_report\n",
    "from sklearn.pipeline import Pipeline\n",
    "from sklearn.preprocessing import StandardScaler, scale\n",
    "\n",
    "import pickle"
   ]
  },
  {
   "cell_type": "code",
   "execution_count": null,
   "id": "12",
   "metadata": {
    "tags": []
   },
   "outputs": [],
   "source": [
    "verbose=True"
   ]
  },
  {
   "cell_type": "code",
   "execution_count": null,
   "id": "13",
   "metadata": {
    "tags": []
   },
   "outputs": [],
   "source": [
    "data_sti='data/'\n",
    "modell_sti='modeller/'\n",
    "resultat_sti='resultater/'"
   ]
  },
  {
   "cell_type": "code",
   "execution_count": null,
   "id": "14",
   "metadata": {
    "tags": []
   },
   "outputs": [],
   "source": [
    "pd.set_option('display.precision', 2)"
   ]
  },
  {
   "cell_type": "markdown",
   "id": "15",
   "metadata": {
    "jupyter": {
     "outputs_hidden": true
    },
    "tags": []
   },
   "source": [
    "# Lese inn og forberede data"
   ]
  },
  {
   "cell_type": "code",
   "execution_count": null,
   "id": "16",
   "metadata": {
    "tags": []
   },
   "outputs": [],
   "source": [
    "housing=pd.read_csv('CA_housing_1990.csv', sep=';')\n",
    "\n",
    "# samme bearbeiding som i regresjonseksempelet: \n",
    "# 1) fjerne kategorisk forklaringsvariabel ocean_proximity\n",
    "# 2) fjerne punkter med manglende verdier\n",
    "housing=housing.drop('ocean_proximity', axis=1)\n",
    "housing = housing[~housing['average_bedrooms'].isna()]\n"
   ]
  },
  {
   "cell_type": "code",
   "execution_count": null,
   "id": "17",
   "metadata": {
    "tags": []
   },
   "outputs": [],
   "source": [
    "housing"
   ]
  },
  {
   "cell_type": "code",
   "execution_count": null,
   "id": "18",
   "metadata": {
    "tags": []
   },
   "outputs": [],
   "source": [
    "housing.hist(column='median_house_value', bins=50)"
   ]
  },
  {
   "cell_type": "code",
   "execution_count": null,
   "id": "19",
   "metadata": {
    "tags": []
   },
   "outputs": [],
   "source": [
    "# vi lager en egendefinert kategorisk variabel som beskriver median_house_value som:\n",
    "#            < 130000           =>    'Low'\n",
    "#    130000 <= ... <= 240000    =>    'Medium'\n",
    "#    240000 <  ... < 490000     =>    'High' \n",
    "#            >= 490000          =>    'Very pricy'\n",
    "\n",
    "thresh_lowmed=130000\n",
    "thresh_medhigh=240000\n",
    "thresh_veryhigh=490000\n",
    "\n",
    "def dollars_to_categ(house_vals):\n",
    "    \n",
    "    house_categs= np.select(\n",
    "    [   house_vals<thresh_lowmed,\n",
    "        house_vals.between(thresh_lowmed, thresh_medhigh, inclusive='both'), \n",
    "        house_vals.between(thresh_medhigh, thresh_veryhigh, inclusive='neither'),\n",
    "        house_vals>=thresh_veryhigh   ], \n",
    "    [   'Low', \n",
    "        'Medium',\n",
    "        'High',\n",
    "        'Very pricy'    ])\n",
    "    return(house_categs)\n",
    "    \n",
    "housing['house_value_categ']= dollars_to_categ(housing['median_house_value'])   \n",
    "housing    "
   ]
  },
  {
   "cell_type": "code",
   "execution_count": null,
   "id": "20",
   "metadata": {
    "tags": []
   },
   "outputs": [],
   "source": [
    "housing=housing.drop('median_house_value', axis=1)"
   ]
  },
  {
   "cell_type": "markdown",
   "id": "21",
   "metadata": {
    "jupyter": {
     "outputs_hidden": true
    },
    "tags": []
   },
   "source": [
    "# Lage X, y "
   ]
  },
  {
   "cell_type": "code",
   "execution_count": null,
   "id": "22",
   "metadata": {
    "tags": []
   },
   "outputs": [],
   "source": [
    "X=housing.drop('house_value_categ', axis=1)"
   ]
  },
  {
   "cell_type": "code",
   "execution_count": null,
   "id": "23",
   "metadata": {
    "tags": []
   },
   "outputs": [],
   "source": [
    "# legge X_ til kolonnenavn for X-variabler\n",
    "\n",
    "X.columns='X_'+X.columns\n",
    "X.columns"
   ]
  },
  {
   "cell_type": "code",
   "execution_count": null,
   "id": "24",
   "metadata": {
    "tags": []
   },
   "outputs": [],
   "source": [
    "X"
   ]
  },
  {
   "cell_type": "code",
   "execution_count": null,
   "id": "25",
   "metadata": {
    "tags": []
   },
   "outputs": [],
   "source": [
    "y= housing.loc[:,'house_value_categ'].values\n",
    "y"
   ]
  },
  {
   "cell_type": "code",
   "execution_count": null,
   "id": "26",
   "metadata": {
    "tags": []
   },
   "outputs": [],
   "source": [
    "# litt utforskning av data"
   ]
  },
  {
   "cell_type": "code",
   "execution_count": null,
   "id": "27",
   "metadata": {
    "tags": []
   },
   "outputs": [],
   "source": [
    "X.shape"
   ]
  },
  {
   "cell_type": "code",
   "execution_count": null,
   "id": "28",
   "metadata": {
    "tags": []
   },
   "outputs": [],
   "source": [
    "y.shape"
   ]
  },
  {
   "cell_type": "code",
   "execution_count": null,
   "id": "29",
   "metadata": {
    "tags": []
   },
   "outputs": [],
   "source": [
    "# summary statistics\n",
    "X.describe()"
   ]
  },
  {
   "cell_type": "code",
   "execution_count": null,
   "id": "30",
   "metadata": {
    "tags": []
   },
   "outputs": [],
   "source": [
    "pd.DataFrame(y).value_counts()"
   ]
  },
  {
   "cell_type": "markdown",
   "id": "31",
   "metadata": {
    "jupyter": {
     "outputs_hidden": true
    },
    "tags": []
   },
   "source": [
    "# Dele i trenings- og testsetter"
   ]
  },
  {
   "cell_type": "code",
   "execution_count": null,
   "id": "32",
   "metadata": {
    "tags": []
   },
   "outputs": [],
   "source": [
    "X_train, X_test, y_train, y_test = train_test_split(X, y, test_size=0.2, random_state=11)"
   ]
  },
  {
   "cell_type": "code",
   "execution_count": null,
   "id": "33",
   "metadata": {
    "tags": []
   },
   "outputs": [],
   "source": [
    "X_train.shape"
   ]
  },
  {
   "cell_type": "code",
   "execution_count": null,
   "id": "34",
   "metadata": {
    "tags": []
   },
   "outputs": [],
   "source": [
    "X_test.shape"
   ]
  },
  {
   "cell_type": "code",
   "execution_count": null,
   "id": "35",
   "metadata": {
    "tags": []
   },
   "outputs": [],
   "source": [
    "y_train.shape"
   ]
  },
  {
   "cell_type": "code",
   "execution_count": null,
   "id": "36",
   "metadata": {
    "tags": []
   },
   "outputs": [],
   "source": [
    "y_test.shape"
   ]
  },
  {
   "cell_type": "markdown",
   "id": "37",
   "metadata": {
    "jupyter": {
     "outputs_hidden": true
    },
    "tags": []
   },
   "source": [
    "# Trene modell "
   ]
  },
  {
   "cell_type": "code",
   "execution_count": null,
   "id": "38",
   "metadata": {},
   "outputs": [],
   "source": [
    "# vi prøver først en support vector machine\n",
    "\n",
    "model = SVC()\n",
    "\n",
    "model.fit(X_train, y_train)\n"
   ]
  },
  {
   "cell_type": "markdown",
   "id": "39",
   "metadata": {},
   "source": [
    "### Litt inspisering"
   ]
  },
  {
   "cell_type": "markdown",
   "id": "40",
   "metadata": {},
   "source": [
    "hvordan klassifiserer modellen et punkt med gjennomsnittlige verdier for alle X variabler?"
   ]
  },
  {
   "cell_type": "code",
   "execution_count": null,
   "id": "41",
   "metadata": {
    "tags": []
   },
   "outputs": [],
   "source": [
    "means = X.describe().loc[['mean']]\n",
    "means"
   ]
  },
  {
   "cell_type": "code",
   "execution_count": null,
   "id": "42",
   "metadata": {
    "tags": []
   },
   "outputs": [],
   "source": [
    "model.predict(means)"
   ]
  },
  {
   "cell_type": "markdown",
   "id": "43",
   "metadata": {
    "jupyter": {
     "outputs_hidden": true
    },
    "tags": []
   },
   "source": [
    "# Test modellen"
   ]
  },
  {
   "cell_type": "code",
   "execution_count": null,
   "id": "44",
   "metadata": {
    "tags": []
   },
   "outputs": [],
   "source": [
    "# lage prediksjoner på testdata\n",
    "\n",
    "y_pred = model.predict(X_test)\n",
    "y_pred"
   ]
  },
  {
   "cell_type": "code",
   "execution_count": null,
   "id": "45",
   "metadata": {
    "tags": []
   },
   "outputs": [],
   "source": [
    "# lage en kopi for senere\n",
    "\n",
    "y_pred_SVM = y_pred"
   ]
  },
  {
   "cell_type": "markdown",
   "id": "46",
   "metadata": {},
   "source": [
    "### Vurdere modellen"
   ]
  },
  {
   "cell_type": "code",
   "execution_count": null,
   "id": "47",
   "metadata": {
    "tags": []
   },
   "outputs": [],
   "source": [
    "# beregne nøyaktigheten (prosent av prediksjoner som er riktige) \n",
    "accuracy = accuracy_score(y_test, y_pred)\n",
    "print(f\"Accuracy: {accuracy:.2f}\")"
   ]
  },
  {
   "cell_type": "code",
   "execution_count": null,
   "id": "48",
   "metadata": {
    "tags": []
   },
   "outputs": [],
   "source": [
    "# beregne F1-score\n",
    "\n",
    "# F1: geometric mean of recall and precision, \n",
    "#     weighted averaged over the categories for the outcome variable y\n",
    "\n",
    "f1 = f1_score(y_test, y_pred, average=\"weighted\")\n",
    "print(f\"F1 score: {f1:.2f}\")"
   ]
  },
  {
   "cell_type": "code",
   "execution_count": null,
   "id": "49",
   "metadata": {
    "tags": []
   },
   "outputs": [],
   "source": [
    "# Vis 'classification report', som gir mer detaljerte mål\n",
    "report = classification_report(y_test, y_pred)\n",
    "print(\"Classification Report:\\n\", report)"
   ]
  },
  {
   "cell_type": "code",
   "execution_count": null,
   "id": "50",
   "metadata": {},
   "outputs": [],
   "source": [
    "# hvis ønsket, skriv ut klassifiserings rapport til en tekst fil:\n",
    "print(report, file=open('classification_report_CA_housing_values_SVM.txt', 'w'))"
   ]
  },
  {
   "cell_type": "markdown",
   "id": "51",
   "metadata": {},
   "source": [
    "### Vurdere ytelsen i strata"
   ]
  },
  {
   "cell_type": "code",
   "execution_count": null,
   "id": "52",
   "metadata": {
    "tags": []
   },
   "outputs": [],
   "source": [
    "# sjekke nøyaktigheten i strata hvor hus er nyere eller eldre\n",
    "nyere = X_test['X_housing_median_age']<=20\n",
    "\n",
    "accuracy_new = accuracy_score(y_test[nyere], y_pred[nyere])\n",
    "print(f\"Accuracy, housing_median_age<=20: {accuracy_new:.2f}\")\n"
   ]
  },
  {
   "cell_type": "markdown",
   "id": "53",
   "metadata": {
    "jupyter": {
     "outputs_hidden": true
    },
    "tags": []
   },
   "source": [
    "# Prøv andre algoritmer"
   ]
  },
  {
   "cell_type": "code",
   "execution_count": null,
   "id": "54",
   "metadata": {
    "tags": []
   },
   "outputs": [],
   "source": [
    "# nå prøver vi en random forest\n",
    "\n",
    "model=RandomForestClassifier()\n",
    "\n",
    "# tilpasning, sjekk treningstid\n",
    "start_time = time.time()\n",
    "model.fit(X_train, y_train)\n",
    "end_time = time.time()\n",
    "print(f\"Model trained in {end_time-start_time:.1f} seconds\")\n",
    "\n",
    "# sjekke nøyaktigheten på testsettet\n",
    "y_pred = model.predict(X_test)\n",
    "accuracy = accuracy_score(y_test, y_pred)\n",
    "print(f\"Accuracy: {accuracy:.2f}\")"
   ]
  },
  {
   "cell_type": "code",
   "execution_count": null,
   "id": "55",
   "metadata": {
    "tags": []
   },
   "outputs": [],
   "source": [
    "# lage en kopi av modellen for lagring\n",
    "model_RF=model "
   ]
  },
  {
   "cell_type": "markdown",
   "id": "56",
   "metadata": {},
   "source": [
    "### Prøv med dine egne modelldefinisjoner her!"
   ]
  },
  {
   "cell_type": "code",
   "execution_count": null,
   "id": "57",
   "metadata": {},
   "outputs": [],
   "source": []
  },
  {
   "cell_type": "code",
   "execution_count": null,
   "id": "58",
   "metadata": {},
   "outputs": [],
   "source": []
  },
  {
   "cell_type": "markdown",
   "id": "59",
   "metadata": {
    "jupyter": {
     "outputs_hidden": true
    },
    "tags": []
   },
   "source": [
    "# Støttefunksjoner for testing"
   ]
  },
  {
   "cell_type": "code",
   "execution_count": null,
   "id": "60",
   "metadata": {
    "tags": []
   },
   "outputs": [],
   "source": [
    "# lag en funksjon for å sjekke nøyaktighet av en modell\n",
    "\n",
    "def sjekke_noyaktighet(mymodel):\n",
    "    mymodel.fit(X_train, y_train)\n",
    "    y_pred = mymodel.predict(X_test)\n",
    "    accuracy=accuracy_score(y_test, y_pred)\n",
    "    print(\"Testing model \", mymodel, \"\\naccuracy=\", round(accuracy,2))\n",
    "    return None\n"
   ]
  },
  {
   "cell_type": "code",
   "execution_count": null,
   "id": "61",
   "metadata": {
    "tags": []
   },
   "outputs": [],
   "source": [
    "# prøv logistisk regresjon\n",
    "# øke maksimalt antall iterasjoner for å hjelpe med konvergens\n",
    "\n",
    "mymodel=LogisticRegression(max_iter=1000)\n",
    "sjekke_noyaktighet(mymodel)"
   ]
  },
  {
   "cell_type": "code",
   "execution_count": null,
   "id": "62",
   "metadata": {},
   "outputs": [],
   "source": []
  },
  {
   "cell_type": "markdown",
   "id": "63",
   "metadata": {},
   "source": [
    "ingen konvergens selv med den høyere maksimalt antallen iterasjoner\\\n",
    "så prøver vi å skalere X i dataene først"
   ]
  },
  {
   "cell_type": "code",
   "execution_count": null,
   "id": "64",
   "metadata": {
    "tags": []
   },
   "outputs": [],
   "source": [
    "mymodel = Pipeline([   ('scale', StandardScaler()),\n",
    "                  ('LR', LogisticRegression(max_iter=1000)) ])\n",
    "sjekke_noyaktighet(mymodel)"
   ]
  },
  {
   "cell_type": "markdown",
   "id": "65",
   "metadata": {},
   "source": [
    "nå har vi konvergens og bedre ytelse!"
   ]
  },
  {
   "cell_type": "code",
   "execution_count": null,
   "id": "66",
   "metadata": {},
   "outputs": [],
   "source": []
  },
  {
   "cell_type": "markdown",
   "id": "67",
   "metadata": {},
   "source": [
    "hjelper skalering med de andre algoritmene vi har prøvd også?"
   ]
  },
  {
   "cell_type": "code",
   "execution_count": null,
   "id": "68",
   "metadata": {
    "tags": []
   },
   "outputs": [],
   "source": [
    "# support vector machine (SVM)\n",
    "\n",
    "mymodel = Pipeline([   ('scale', StandardScaler()),\n",
    "                  ('SVM', SVC()) ])\n",
    "sjekke_noyaktighet(mymodel)"
   ]
  },
  {
   "cell_type": "code",
   "execution_count": null,
   "id": "69",
   "metadata": {
    "tags": []
   },
   "outputs": [],
   "source": [
    "# random forest\n",
    "\n",
    "mymodel = Pipeline([   ('scale', StandardScaler()),\n",
    "                  ('RF', RandomForestClassifier()) ])\n",
    "sjekke_noyaktighet(mymodel)"
   ]
  },
  {
   "cell_type": "code",
   "execution_count": null,
   "id": "70",
   "metadata": {},
   "outputs": [],
   "source": []
  },
  {
   "cell_type": "code",
   "execution_count": null,
   "id": "71",
   "metadata": {},
   "outputs": [],
   "source": []
  },
  {
   "cell_type": "code",
   "execution_count": null,
   "id": "72",
   "metadata": {},
   "outputs": [],
   "source": []
  },
  {
   "cell_type": "code",
   "execution_count": null,
   "id": "73",
   "metadata": {},
   "outputs": [],
   "source": []
  }
 ],
 "metadata": {
  "language_info": {
   "codemirror_mode": {
    "name": "ipython"
   },
   "file_extension": ".py",
   "mimetype": "text/x-python",
   "name": "python",
   "nbconvert_exporter": "python"
  }
 },
 "nbformat": 4,
 "nbformat_minor": 5
}
