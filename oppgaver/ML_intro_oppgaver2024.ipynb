{
 "cells": [
  {
   "cell_type": "code",
   "execution_count": null,
   "id": "0",
   "metadata": {},
   "outputs": [],
   "source": []
  },
  {
   "cell_type": "markdown",
   "id": "1",
   "metadata": {},
   "source": [
    "# Klassifisering av iris data"
   ]
  },
  {
   "cell_type": "markdown",
   "id": "2",
   "metadata": {},
   "source": [
    "#### Bruk *1_min_forste_ML_program_iris.py*."
   ]
  },
  {
   "cell_type": "markdown",
   "id": "3",
   "metadata": {},
   "source": [
    "1) **Se på trening / test split**: Kjør test/ training split med 75% i testdata (nå er det 25% i testdata). Hva er weighted average precision med den nye innstillingen?\n",
    " "
   ]
  },
  {
   "cell_type": "markdown",
   "id": "4",
   "metadata": {},
   "source": []
  },
  {
   "cell_type": "markdown",
   "id": "5",
   "metadata": {},
   "source": [
    "2) **Predikering av et nytt punkt**: La oss si at du finner en ny iris blomst med \n",
    "sepal length = 5.0cm, sepal width = 4.0 cm, petal length = 4.0 cm, og petal width = 2.0 cm. \n",
    "Predikere typen av iris for denne blomsten.\n",
    "\n",
    "Det kan være nyttig å observere at X_test hadde formaten: \\\n",
    "[[6.1, 2.8, 4.7, 1.2],  [5.7, 3.8, 1.7, 0.3], ..., [7.7, 2.6, 6.9, 2.3]]\n",
    "       "
   ]
  },
  {
   "cell_type": "code",
   "execution_count": null,
   "id": "6",
   "metadata": {},
   "outputs": [],
   "source": []
  },
  {
   "cell_type": "code",
   "execution_count": null,
   "id": "7",
   "metadata": {},
   "outputs": [],
   "source": []
  },
  {
   "cell_type": "markdown",
   "id": "8",
   "metadata": {},
   "source": [
    "# Regresjon med California housing data\n",
    "\n"
   ]
  },
  {
   "cell_type": "code",
   "execution_count": null,
   "id": "9",
   "metadata": {},
   "outputs": [],
   "source": []
  },
  {
   "cell_type": "markdown",
   "id": "10",
   "metadata": {
    "tags": []
   },
   "source": [
    "### 1) Gjennomfør en hel maskinlæring arbeidsflyt på et nytt datasett.\n",
    "\n"
   ]
  },
  {
   "cell_type": "markdown",
   "id": "11",
   "metadata": {},
   "source": [
    "Åpne **4_CA_housing_regresjon_oppgave.py**  filen. Den er en malfil du kan fylle med kode for å besvare de punktene nedenfor.\\\n",
    " \\\n",
    "Her skal du gjennomføre en hel ML arbeidsflyt med random forest på et nytt datasett, *CA_housing_waterfront_regr.csv*.\n",
    "Dette datasettet er et utdrag av *CA_housing_1990.csv* dataene som var brukt i de demo filene, og inneholder bolig der 'ocean_proximity' variabel tok en av følgende verdier: (NEAR OCEAN, NEAR BAY, ISLAND)."
   ]
  },
  {
   "cell_type": "markdown",
   "id": "12",
   "metadata": {},
   "source": [
    "A) Lese inn *CA_housing_waterfront_regr.csv*."
   ]
  },
  {
   "cell_type": "markdown",
   "id": "13",
   "metadata": {},
   "source": []
  },
  {
   "cell_type": "markdown",
   "id": "14",
   "metadata": {},
   "source": [
    "B) Inspisere data. Er alle variablene numeriske? Er det manglende verdier?"
   ]
  },
  {
   "cell_type": "markdown",
   "id": "15",
   "metadata": {},
   "source": []
  },
  {
   "cell_type": "markdown",
   "id": "16",
   "metadata": {},
   "source": [
    "C) Lage en matrise **X** som inneholder de inngangsvariablene, og en array **y** som er utfallsvariabelen."
   ]
  },
  {
   "cell_type": "markdown",
   "id": "17",
   "metadata": {},
   "source": []
  },
  {
   "cell_type": "markdown",
   "id": "18",
   "metadata": {},
   "source": [
    "D) Sjekk beskrivende statistikk. Du kan bruke syntaksen <code>mydataframe.describe()</code>"
   ]
  },
  {
   "cell_type": "markdown",
   "id": "19",
   "metadata": {},
   "source": []
  },
  {
   "cell_type": "markdown",
   "id": "20",
   "metadata": {},
   "source": [
    "E) Dele dataene i trenings- og testsetter. Sjekk størrelsen på begge settene."
   ]
  },
  {
   "cell_type": "markdown",
   "id": "21",
   "metadata": {
    "tags": []
   },
   "source": []
  },
  {
   "cell_type": "markdown",
   "id": "22",
   "metadata": {},
   "source": [
    "F) Trene en random forest modell. Du kan bruke standardinnstillingene for hyperparametrene, <code>model=RandomForestRegressor()</code>."
   ]
  },
  {
   "cell_type": "markdown",
   "id": "23",
   "metadata": {
    "tags": []
   },
   "source": []
  },
  {
   "cell_type": "markdown",
   "id": "24",
   "metadata": {},
   "source": [
    "G) Lage prediksjoner i testsettet."
   ]
  },
  {
   "cell_type": "markdown",
   "id": "25",
   "metadata": {
    "tags": []
   },
   "source": []
  },
  {
   "cell_type": "markdown",
   "id": "26",
   "metadata": {},
   "source": [
    "H) Vurdere ytelsen. Hvordan er MAE i dette mer homogene datasettet (\\~5000 bolig som er alle ved vannkanten), sammenlignet med det opprinnelige datasettet (\\~20000 bolig) som var brukt i *2_CA_housing_regresjon_demo.py*?"
   ]
  },
  {
   "cell_type": "markdown",
   "id": "27",
   "metadata": {
    "tags": []
   },
   "source": []
  },
  {
   "cell_type": "markdown",
   "id": "28",
   "metadata": {},
   "source": [
    "I) Gjør hyperparameter justering (tuning). \\\n",
    "\\\n",
    "Som standard kan random forest modeller har bare et punkt fra treningssettet som gir verdien til en bladnode. En måte for å gjøre \"smoothing\" er å kreve at det er flere enn et punkt som er tildelt hver bladnode (d.v.s. at modellen blir mindre tilpasset til treningssettet). Vi kan justere denne hyperparameteren med *min_samples_leaf* innstillingen, f.eks.:\\\n",
    "<code>RandomForestRegressor(min_samples_leaf=2)</code>\\\n",
    "\\\n",
    "Bruk <code>GridSearchCV(...)</code> for å finne ut hvilken innstilling av *min_samples_leaf* parameteren til random forest fungerer best for våre data: 1, 2, eller 3.\n"
   ]
  },
  {
   "cell_type": "markdown",
   "id": "29",
   "metadata": {
    "tags": []
   },
   "source": []
  },
  {
   "cell_type": "markdown",
   "id": "30",
   "metadata": {},
   "source": [
    "J) Hva er den beste innstillingen av *min_samples_leaf* parameteren?"
   ]
  },
  {
   "cell_type": "markdown",
   "id": "31",
   "metadata": {
    "tags": []
   },
   "source": []
  },
  {
   "cell_type": "markdown",
   "id": "32",
   "metadata": {},
   "source": [
    "K) Lage prediksjoner i testsettet med den beste innstillingen."
   ]
  },
  {
   "cell_type": "markdown",
   "id": "33",
   "metadata": {
    "tags": []
   },
   "source": []
  },
  {
   "cell_type": "markdown",
   "id": "34",
   "metadata": {},
   "source": [
    "L) Vurdere MAE ytelsen av random forest med denne innstillingen. Gjør hyperparameter justering en stor forskjell her?"
   ]
  },
  {
   "cell_type": "markdown",
   "id": "35",
   "metadata": {
    "tags": []
   },
   "source": []
  },
  {
   "cell_type": "code",
   "execution_count": null,
   "id": "36",
   "metadata": {},
   "outputs": [],
   "source": []
  },
  {
   "cell_type": "markdown",
   "id": "37",
   "metadata": {},
   "source": [
    "Bra jobba! :-) Nå har du bygd din egen maskinlæring arbeidsflyt helt fra bunnen av!"
   ]
  },
  {
   "cell_type": "code",
   "execution_count": null,
   "id": "38",
   "metadata": {},
   "outputs": [],
   "source": []
  },
  {
   "cell_type": "code",
   "execution_count": null,
   "id": "39",
   "metadata": {},
   "outputs": [],
   "source": []
  },
  {
   "cell_type": "markdown",
   "id": "40",
   "metadata": {},
   "source": [
    "### 2) Prøv en annen algoritme, ridge regression.\n",
    "\n",
    "Ridge regression er en algoritmen som bruker en lineær modell akkurat som lineær regresjon, men kontrollerer mot overtilpasning ved å foretrekke modeller som har minst mulig størrelse i koeffisientene. Kan vi bruke den til å bygge en enkelt lineær modell som er like lett å tolke som lineær regresjon, men samtidig har bedre ytelse? \n",
    "\n",
    "Gå til *2_CA_housing_regresjon_demo.py* og finne cellen der det står \"Prøv med dine egne modelldefinisjoner her\". Hva er mean average error (MAE) på testsettet når vi trener en ridge regresjon modell? Er det bedre enn ytelsen av enkel lineær regresjon?"
   ]
  },
  {
   "cell_type": "markdown",
   "id": "41",
   "metadata": {
    "tags": []
   },
   "source": [
    "Du kan bruke versjonen av ridge regresjon som har innbygget kryssvalidering, og spesifisere modellen sånn: \\\n",
    "<code>model = RidgeCV()</code>\n"
   ]
  },
  {
   "cell_type": "code",
   "execution_count": null,
   "id": "42",
   "metadata": {},
   "outputs": [],
   "source": []
  },
  {
   "cell_type": "code",
   "execution_count": null,
   "id": "43",
   "metadata": {},
   "outputs": [],
   "source": []
  },
  {
   "cell_type": "code",
   "execution_count": null,
   "id": "44",
   "metadata": {},
   "outputs": [],
   "source": []
  },
  {
   "cell_type": "markdown",
   "id": "45",
   "metadata": {},
   "source": [
    "# Klassifisering med California housing data\n",
    "\n"
   ]
  },
  {
   "cell_type": "code",
   "execution_count": null,
   "id": "46",
   "metadata": {},
   "outputs": [],
   "source": []
  },
  {
   "cell_type": "markdown",
   "id": "47",
   "metadata": {
    "tags": []
   },
   "source": [
    "### 1) Gjennomfør en hel maskinlæring arbeidsflyt på et nytt datasett.\n",
    "\n"
   ]
  },
  {
   "cell_type": "markdown",
   "id": "48",
   "metadata": {},
   "source": [
    "Åpne **5_CA_housing_klassifisering_oppgave.py**  filen. Den er en malfil du kan fylle med kode for å besvare de punktene nedenfor.\\\n",
    " \\\n",
    "Her skal du gjennomføre en hel ML arbeidsflyt med support vector machine på et nytt datasett, *CA_housing_waterfront_classif.csv*.\n",
    "Dette datasettet er et utdrag av *CA_housing_1990.csv* dataene som var brukt i de demo filene, og inneholder bolig der 'ocean_proximity' variabel tok en av følgende verdier: (NEAR OCEAN, NEAR BAY, ISLAND)."
   ]
  },
  {
   "cell_type": "markdown",
   "id": "49",
   "metadata": {},
   "source": [
    "A) Lese inn *CA_housing_waterfront_classif.csv*."
   ]
  },
  {
   "cell_type": "markdown",
   "id": "50",
   "metadata": {},
   "source": []
  },
  {
   "cell_type": "markdown",
   "id": "51",
   "metadata": {},
   "source": [
    "B) Inspisere data. Er alle variablene numeriske? Er det manglende verdier?"
   ]
  },
  {
   "cell_type": "markdown",
   "id": "52",
   "metadata": {},
   "source": []
  },
  {
   "cell_type": "markdown",
   "id": "53",
   "metadata": {},
   "source": [
    "C) Lage en matrise **X** som inneholder de inngangsvariablene, og en array **y** som er utfallsvariabelen."
   ]
  },
  {
   "cell_type": "markdown",
   "id": "54",
   "metadata": {},
   "source": []
  },
  {
   "cell_type": "markdown",
   "id": "55",
   "metadata": {},
   "source": [
    "D) Sjekk beskrivende statistikk. Du kan bruke syntaksen <code>mydataframe.describe()</code>"
   ]
  },
  {
   "cell_type": "markdown",
   "id": "56",
   "metadata": {},
   "source": []
  },
  {
   "cell_type": "markdown",
   "id": "57",
   "metadata": {},
   "source": [
    "E) Dele data i trenings- og testsetter. Sjekk størrelsen på begge settene."
   ]
  },
  {
   "cell_type": "markdown",
   "id": "58",
   "metadata": {
    "tags": []
   },
   "source": []
  },
  {
   "cell_type": "markdown",
   "id": "59",
   "metadata": {},
   "source": [
    "F) Trene en support vector machine modellen. \\\n",
    "\\\n",
    "Du kan bruke standardinnstillingene for hyperparametrene, og bruke <code>model=SVC()</code>  ('SVC' betyr support vector classifier)."
   ]
  },
  {
   "cell_type": "markdown",
   "id": "60",
   "metadata": {
    "tags": []
   },
   "source": []
  },
  {
   "cell_type": "markdown",
   "id": "61",
   "metadata": {},
   "source": [
    "G) Lage prediksjoner i testsettet."
   ]
  },
  {
   "cell_type": "markdown",
   "id": "62",
   "metadata": {
    "tags": []
   },
   "source": []
  },
  {
   "cell_type": "markdown",
   "id": "63",
   "metadata": {},
   "source": [
    "H) Vurdere ytelsen. Hvordan er nøyaktigheten i dette mer homogene datasettet (\\~5000 bolig som er alle ved vannkanten), sammenlignet med det opprinnelige datasettet (\\~20000 bolig) som var brukt i *2_CA_housing_klassifisering_demo.py*? Hva med F1 score verdier?"
   ]
  },
  {
   "cell_type": "markdown",
   "id": "64",
   "metadata": {
    "tags": []
   },
   "source": []
  },
  {
   "cell_type": "markdown",
   "id": "65",
   "metadata": {},
   "source": [
    "I) Skriv ut en klassifiseringsrapport. For hvilken kategori av boligverdier (High, Low, Medium, Very pricy) identifiserer modellen den høyeste prosentandelen av tilfellene? For hvilken kategori har modellen den høyeste prosentandelen korrekte av tilfeller den har identifisert?"
   ]
  },
  {
   "cell_type": "markdown",
   "id": "66",
   "metadata": {
    "tags": []
   },
   "source": []
  },
  {
   "cell_type": "code",
   "execution_count": null,
   "id": "67",
   "metadata": {},
   "outputs": [],
   "source": []
  },
  {
   "cell_type": "code",
   "execution_count": null,
   "id": "68",
   "metadata": {},
   "outputs": [],
   "source": []
  },
  {
   "cell_type": "markdown",
   "id": "69",
   "metadata": {},
   "source": [
    "### 2) Prøv K-nærmeste nabo (K nearest neighbors, KNN).\n",
    "\n",
    "Gå til *3_CA_housing_regresjon_demo.py* og finne cellen der det står \"Prøv med dine egne modelldefinisjoner her\". Hva er accuracy på testsettet med KNN? Hva er F1 score på testsettet?"
   ]
  },
  {
   "cell_type": "markdown",
   "id": "70",
   "metadata": {
    "tags": []
   },
   "source": [
    "KNN er implementert i python sklearn sånn: \\\n",
    "<code>model = KNeighborsClassifier()</code>\n"
   ]
  },
  {
   "cell_type": "code",
   "execution_count": null,
   "id": "71",
   "metadata": {},
   "outputs": [],
   "source": []
  },
  {
   "cell_type": "code",
   "execution_count": null,
   "id": "72",
   "metadata": {},
   "outputs": [],
   "source": []
  },
  {
   "cell_type": "markdown",
   "id": "73",
   "metadata": {},
   "source": [
    "### 3) (Valgfritt, litt mer involvert eksempel.) Bruk regresjons-løsningen for klassifisering.\n",
    "\n"
   ]
  },
  {
   "cell_type": "markdown",
   "id": "74",
   "metadata": {},
   "source": [
    "I den siste modullen har vi bygd en random forest modell som predikerer median_house_value fra X-variablene. Den modellen gir mye rikere informasjon enn hva vi trenger har, som er boligverdier i en grov klassifiseringsordning. Hva om vi brukte bare den modellen, og konverterte husverdiene til kategorier?\\\n",
    "\\\n",
    "Gå tilbake til *2_CA_housing_regresjon_demo.py*, og finn implementasjonen av random forest. Konvertere de predikerte numeriske husverdiene til kategorier. Her er konverteringsfunksjonen vi brukte:"
   ]
  },
  {
   "cell_type": "markdown",
   "id": "75",
   "metadata": {
    "tags": []
   },
   "source": [
    "<code>def dollars_to_categ(house_vals):\n",
    "    house_categs= np.select(\n",
    "    [   \n",
    "        house_vals < thresh_lowmed,\n",
    "        house_vals.between(thresh_lowmed, thresh_medhigh, inclusive='both'), \n",
    "        house_vals.between(thresh_medhigh, thresh_veryhigh, inclusive='neither'),\n",
    "        house_vals>=thresh_veryhigh   ], \n",
    "    [   'Low', \n",
    "        'Medium',\n",
    "        'High',\n",
    "        'Very pricy'   ])\n",
    "    return(house_categs)\n",
    "</code>"
   ]
  },
  {
   "cell_type": "markdown",
   "id": "76",
   "metadata": {},
   "source": [
    "A) Hva er accuracy på testsettet når du bruker denne metoden? Hva er F1 score? \\\n",
    "\\\n",
    "B) Er den beste modellen for regresjon nødvendigvis den beste for klassifisering? Hvorfor?"
   ]
  },
  {
   "cell_type": "code",
   "execution_count": null,
   "id": "77",
   "metadata": {},
   "outputs": [],
   "source": []
  },
  {
   "cell_type": "code",
   "execution_count": null,
   "id": "78",
   "metadata": {},
   "outputs": [],
   "source": []
  }
 ],
 "metadata": {
  "language_info": {
   "codemirror_mode": {
    "name": "ipython"
   },
   "file_extension": ".py",
   "mimetype": "text/x-python",
   "name": "python",
   "nbconvert_exporter": "python"
  }
 },
 "nbformat": 4,
 "nbformat_minor": 5
}
