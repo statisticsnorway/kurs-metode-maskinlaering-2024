{
 "cells": [
  {
   "cell_type": "code",
   "execution_count": null,
   "id": "0",
   "metadata": {},
   "outputs": [],
   "source": []
  },
  {
   "cell_type": "markdown",
   "id": "1",
   "metadata": {},
   "source": [
    "# Klassifisering av iris data"
   ]
  },
  {
   "cell_type": "markdown",
   "id": "2",
   "metadata": {},
   "source": [
    "#### Bruk *1_min_forste_ML_program_iris.ipynb*."
   ]
  },
  {
   "cell_type": "markdown",
   "id": "3",
   "metadata": {},
   "source": [
    "1) **Se på trening / test split**: Kjør test/ training split med 75% i testdata (nå er det 25% i testdata). Hva er weighted average precision med den nye innstillingen?\n",
    " "
   ]
  },
  {
   "cell_type": "markdown",
   "id": "4",
   "metadata": {},
   "source": []
  },
  {
   "cell_type": "markdown",
   "id": "5",
   "metadata": {},
   "source": [
    "2) **Predikering av et nytt punkt**: La oss si at du finner en ny iris blomst med \n",
    "sepal length = 5.0cm, sepal width = 4.0 cm, petal length = 4.0 cm, og petal width = 2.0 cm. \n",
    "Predikere typen av iris for denne blomsten.\n",
    "\n",
    "Det kan være nyttig å observere at X_test hadde formaten: \\\n",
    "[[6.1, 2.8, 4.7, 1.2],  [5.7, 3.8, 1.7, 0.3], ..., [7.7, 2.6, 6.9, 2.3]]\n",
    "       "
   ]
  },
  {
   "cell_type": "code",
   "execution_count": null,
   "id": "6",
   "metadata": {},
   "outputs": [],
   "source": []
  },
  {
   "cell_type": "markdown",
   "id": "7",
   "metadata": {},
   "source": [
    "# Regresjon med California housing data\n",
    "\n"
   ]
  },
  {
   "cell_type": "markdown",
   "id": "8",
   "metadata": {},
   "source": [
    "#### Bruk *2_CA_housing_regresjon.ipynb*."
   ]
  },
  {
   "cell_type": "markdown",
   "id": "9",
   "metadata": {},
   "source": [
    "1) **Prøv et nevralt nettverk.** \n",
    "\n",
    "Finne cellen der det står \"Prøv med dine egne modelldefinisjoner her\". Hva er mean average error (MAE) på testsettet når vi trener et nevralt nettverk?"
   ]
  },
  {
   "cell_type": "markdown",
   "id": "10",
   "metadata": {
    "tags": []
   },
   "source": [
    "Du kan bruke en multi-layor perceptron regressor, som er en klassisk algoritme for nevralte nettverker, og spesifisere modellen sånn: \\\n",
    "<code>model = MLPRegressor(hidden_layer_sizes=(30,))</code>\n"
   ]
  },
  {
   "cell_type": "markdown",
   "id": "11",
   "metadata": {},
   "source": [
    "2) **Justering av hyperparametre (tuning)**. Som standard kan random forest modeller har bare et punkt fra treningssettet på en bladnode. En måte for å gjøre \"smoothing\" er å kreve at det er flere enn et punkt i hver bladnode (d.v.s. at modellen blir mindre tilpasset til treningssettet). Vi kan justere denne hyperparameteren med *min_samples_leaf* innstillingen, f.eks.:\\\n",
    "<code>RandomForestRegressor(min_samples_leaf=2)</code>\\\n",
    "\\\n",
    "A) Bruk <code>GridSearchCV(...)</code> for å finne ut hvilken innstilling av *min_samples_leaf* parameteren til random forest fungerer best for våre data: 1, 2, eller 3. \\\n",
    "\\\n",
    "B) Hva er MAE ytelse i testsettet for den beste innstillingen du har funnet ovenfor? \n"
   ]
  },
  {
   "cell_type": "markdown",
   "id": "12",
   "metadata": {},
   "source": [
    "# Klassifisering med California housing data\n",
    "\n"
   ]
  },
  {
   "cell_type": "markdown",
   "id": "13",
   "metadata": {},
   "source": [
    "#### Bruk *3_CA_housing_klassifisering.ipynb*."
   ]
  },
  {
   "cell_type": "markdown",
   "id": "14",
   "metadata": {},
   "source": [
    "1) **Prøv K-nærmeste nabo (K nearest neighbors, KNN).** \n",
    "\n",
    "Finne cellen der det står \"Prøv med dine egne modelldefinisjoner her\". Hva er accuracy på testsettet med KNN? Hva er F1 score på testsettet?"
   ]
  },
  {
   "cell_type": "markdown",
   "id": "15",
   "metadata": {
    "tags": []
   },
   "source": [
    "KNN er implementert i python sklearn sånn: \\\n",
    "<code>model = KNeighborsClassifier()</code>\n"
   ]
  },
  {
   "cell_type": "markdown",
   "id": "16",
   "metadata": {},
   "source": [
    "2) **(Valgfritt, litt mer involvert eksempel.) Bruk regresjons-løsningen for klassifisering.** \n",
    "\n"
   ]
  },
  {
   "cell_type": "markdown",
   "id": "17",
   "metadata": {},
   "source": [
    "I den siste modullen har vi bygd en random forest modell som predikerer median_house_value fra X-variablene. Den modellen gir mye rikere informasjon enn hva vi trenger har, som er boligverdier i en grov klassifiseringsordning. Hva om vi brukte bare den modellen, og konverterte husverdiene til kategorier?\\\n",
    "\\\n",
    "Gå tilbake til 2_CA_housing_regresjon.ipynb, og finn implementasjon av random forest. Konvertere de predikerte numeriske husverdiene til kategorier. Her er konverteringsfunksjonen vi brukte:"
   ]
  },
  {
   "cell_type": "markdown",
   "id": "18",
   "metadata": {
    "tags": []
   },
   "source": [
    "<code>def dollars_to_categ(house_vals):\n",
    "    house_categs= np.select(\n",
    "    [   \n",
    "        house_vals < thresh_lowmed,\n",
    "        house_vals.between(thresh_lowmed, thresh_medhigh, inclusive='both'), \n",
    "        house_vals.between(thresh_medhigh, thresh_veryhigh, inclusive='neither'),\n",
    "        house_vals>=thresh_veryhigh   ], \n",
    "    [   'Low', \n",
    "        'Medium',\n",
    "        'High',\n",
    "        'Very pricy'   ])\n",
    "    return(house_categs)\n",
    "</code>"
   ]
  },
  {
   "cell_type": "markdown",
   "id": "19",
   "metadata": {},
   "source": [
    "A) Hva er accuracy på testsettet når du bruker denne metoden? Hva er F1 score? \\\n",
    "\\\n",
    "B) Er den beste modellen for regresjon nødvendigvis den beste for klassifisering? Hvorfor?"
   ]
  },
  {
   "cell_type": "code",
   "execution_count": null,
   "id": "20",
   "metadata": {},
   "outputs": [],
   "source": []
  },
  {
   "cell_type": "code",
   "execution_count": null,
   "id": "21",
   "metadata": {},
   "outputs": [],
   "source": []
  }
 ],
 "metadata": {
  "language_info": {
   "codemirror_mode": {
    "name": "ipython"
   },
   "file_extension": ".py",
   "mimetype": "text/x-python",
   "name": "python",
   "nbconvert_exporter": "python"
  }
 },
 "nbformat": 4,
 "nbformat_minor": 5
}
